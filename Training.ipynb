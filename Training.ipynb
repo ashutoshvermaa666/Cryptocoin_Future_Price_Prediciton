{
 "cells": [
  {
   "cell_type": "code",
   "execution_count": 4,
   "id": "8a2ed3d1",
   "metadata": {},
   "outputs": [],
   "source": [
    "# !pip install keras\n",
    "# !pip install scikit-learn\n",
    "# !pip install tensorflow --upgrade\n",
    "# !conda install matplotlib\n",
    "\n",
    "\n",
    "import pandas as pd\n",
    "import numpy as np\n",
    "from sklearn.preprocessing import MinMaxScaler\n",
    "from sklearn.model_selection import train_test_split\n",
    "from tensorflow.keras.models import Sequential\n",
    "from tensorflow.keras.layers import LSTM, Dense\n",
    "# import matplotlib.pyplot as plt\n",
    "# %matplotlib inline\n",
    "\n",
    "\n"
   ]
  },
  {
   "cell_type": "code",
   "execution_count": 6,
   "id": "487fe7ca",
   "metadata": {},
   "outputs": [],
   "source": [
    "df = pd.read_csv('BNB_GBP.csv')"
   ]
  },
  {
   "cell_type": "code",
   "execution_count": 7,
   "id": "d3ae9b81",
   "metadata": {},
   "outputs": [
    {
     "data": {
      "text/html": [
       "<div>\n",
       "<style scoped>\n",
       "    .dataframe tbody tr th:only-of-type {\n",
       "        vertical-align: middle;\n",
       "    }\n",
       "\n",
       "    .dataframe tbody tr th {\n",
       "        vertical-align: top;\n",
       "    }\n",
       "\n",
       "    .dataframe thead th {\n",
       "        text-align: right;\n",
       "    }\n",
       "</style>\n",
       "<table border=\"1\" class=\"dataframe\">\n",
       "  <thead>\n",
       "    <tr style=\"text-align: right;\">\n",
       "      <th></th>\n",
       "      <th>Date</th>\n",
       "      <th>Open</th>\n",
       "      <th>High</th>\n",
       "      <th>Low</th>\n",
       "      <th>Close</th>\n",
       "    </tr>\n",
       "  </thead>\n",
       "  <tbody>\n",
       "    <tr>\n",
       "      <th>0</th>\n",
       "      <td>2020-05-08</td>\n",
       "      <td>13.749820</td>\n",
       "      <td>14.049794</td>\n",
       "      <td>13.654974</td>\n",
       "      <td>13.897699</td>\n",
       "    </tr>\n",
       "    <tr>\n",
       "      <th>1</th>\n",
       "      <td>2020-05-09</td>\n",
       "      <td>13.880352</td>\n",
       "      <td>14.093750</td>\n",
       "      <td>13.614360</td>\n",
       "      <td>13.651434</td>\n",
       "    </tr>\n",
       "    <tr>\n",
       "      <th>2</th>\n",
       "      <td>2020-05-10</td>\n",
       "      <td>13.652360</td>\n",
       "      <td>13.652360</td>\n",
       "      <td>11.865298</td>\n",
       "      <td>12.319514</td>\n",
       "    </tr>\n",
       "    <tr>\n",
       "      <th>3</th>\n",
       "      <td>2020-05-11</td>\n",
       "      <td>12.355208</td>\n",
       "      <td>12.471992</td>\n",
       "      <td>11.583132</td>\n",
       "      <td>12.244109</td>\n",
       "    </tr>\n",
       "    <tr>\n",
       "      <th>4</th>\n",
       "      <td>2020-05-12</td>\n",
       "      <td>12.263190</td>\n",
       "      <td>13.112252</td>\n",
       "      <td>12.185246</td>\n",
       "      <td>12.846337</td>\n",
       "    </tr>\n",
       "  </tbody>\n",
       "</table>\n",
       "</div>"
      ],
      "text/plain": [
       "         Date       Open       High        Low      Close\n",
       "0  2020-05-08  13.749820  14.049794  13.654974  13.897699\n",
       "1  2020-05-09  13.880352  14.093750  13.614360  13.651434\n",
       "2  2020-05-10  13.652360  13.652360  11.865298  12.319514\n",
       "3  2020-05-11  12.355208  12.471992  11.583132  12.244109\n",
       "4  2020-05-12  12.263190  13.112252  12.185246  12.846337"
      ]
     },
     "execution_count": 7,
     "metadata": {},
     "output_type": "execute_result"
    }
   ],
   "source": [
    "df.head()"
   ]
  },
  {
   "cell_type": "code",
   "execution_count": 8,
   "id": "88f5d1fe",
   "metadata": {},
   "outputs": [],
   "source": [
    "df['Date'] = pd.to_datetime(df['Date'])\n",
    "df.sort_values('Date', inplace=True)"
   ]
  },
  {
   "cell_type": "code",
   "execution_count": 9,
   "id": "39b88a0d",
   "metadata": {},
   "outputs": [],
   "source": [
    "df1 = df.drop(['Open','High','Low'], axis=1)"
   ]
  },
  {
   "cell_type": "code",
   "execution_count": 10,
   "id": "3acfe0e2",
   "metadata": {},
   "outputs": [
    {
     "data": {
      "text/html": [
       "<div>\n",
       "<style scoped>\n",
       "    .dataframe tbody tr th:only-of-type {\n",
       "        vertical-align: middle;\n",
       "    }\n",
       "\n",
       "    .dataframe tbody tr th {\n",
       "        vertical-align: top;\n",
       "    }\n",
       "\n",
       "    .dataframe thead th {\n",
       "        text-align: right;\n",
       "    }\n",
       "</style>\n",
       "<table border=\"1\" class=\"dataframe\">\n",
       "  <thead>\n",
       "    <tr style=\"text-align: right;\">\n",
       "      <th></th>\n",
       "      <th>Date</th>\n",
       "      <th>Close</th>\n",
       "    </tr>\n",
       "  </thead>\n",
       "  <tbody>\n",
       "    <tr>\n",
       "      <th>0</th>\n",
       "      <td>2020-05-08</td>\n",
       "      <td>13.897699</td>\n",
       "    </tr>\n",
       "    <tr>\n",
       "      <th>1</th>\n",
       "      <td>2020-05-09</td>\n",
       "      <td>13.651434</td>\n",
       "    </tr>\n",
       "    <tr>\n",
       "      <th>2</th>\n",
       "      <td>2020-05-10</td>\n",
       "      <td>12.319514</td>\n",
       "    </tr>\n",
       "    <tr>\n",
       "      <th>3</th>\n",
       "      <td>2020-05-11</td>\n",
       "      <td>12.244109</td>\n",
       "    </tr>\n",
       "    <tr>\n",
       "      <th>4</th>\n",
       "      <td>2020-05-12</td>\n",
       "      <td>12.846337</td>\n",
       "    </tr>\n",
       "    <tr>\n",
       "      <th>...</th>\n",
       "      <td>...</td>\n",
       "      <td>...</td>\n",
       "    </tr>\n",
       "    <tr>\n",
       "      <th>1091</th>\n",
       "      <td>2023-05-04</td>\n",
       "      <td>259.540833</td>\n",
       "    </tr>\n",
       "    <tr>\n",
       "      <th>1092</th>\n",
       "      <td>2023-05-05</td>\n",
       "      <td>257.444794</td>\n",
       "    </tr>\n",
       "    <tr>\n",
       "      <th>1093</th>\n",
       "      <td>2023-05-06</td>\n",
       "      <td>258.675842</td>\n",
       "    </tr>\n",
       "    <tr>\n",
       "      <th>1094</th>\n",
       "      <td>2023-05-07</td>\n",
       "      <td>255.379456</td>\n",
       "    </tr>\n",
       "    <tr>\n",
       "      <th>1095</th>\n",
       "      <td>2023-05-08</td>\n",
       "      <td>250.903687</td>\n",
       "    </tr>\n",
       "  </tbody>\n",
       "</table>\n",
       "<p>1096 rows × 2 columns</p>\n",
       "</div>"
      ],
      "text/plain": [
       "           Date       Close\n",
       "0    2020-05-08   13.897699\n",
       "1    2020-05-09   13.651434\n",
       "2    2020-05-10   12.319514\n",
       "3    2020-05-11   12.244109\n",
       "4    2020-05-12   12.846337\n",
       "...         ...         ...\n",
       "1091 2023-05-04  259.540833\n",
       "1092 2023-05-05  257.444794\n",
       "1093 2023-05-06  258.675842\n",
       "1094 2023-05-07  255.379456\n",
       "1095 2023-05-08  250.903687\n",
       "\n",
       "[1096 rows x 2 columns]"
      ]
     },
     "execution_count": 10,
     "metadata": {},
     "output_type": "execute_result"
    }
   ],
   "source": [
    "df1"
   ]
  },
  {
   "cell_type": "code",
   "execution_count": 13,
   "id": "e76e3c60",
   "metadata": {},
   "outputs": [],
   "source": [
    "df2 = df1[df1['Date']>='2022-05-09']"
   ]
  },
  {
   "cell_type": "code",
   "execution_count": 14,
   "id": "26b51792",
   "metadata": {},
   "outputs": [
    {
     "data": {
      "text/html": [
       "<div>\n",
       "<style scoped>\n",
       "    .dataframe tbody tr th:only-of-type {\n",
       "        vertical-align: middle;\n",
       "    }\n",
       "\n",
       "    .dataframe tbody tr th {\n",
       "        vertical-align: top;\n",
       "    }\n",
       "\n",
       "    .dataframe thead th {\n",
       "        text-align: right;\n",
       "    }\n",
       "</style>\n",
       "<table border=\"1\" class=\"dataframe\">\n",
       "  <thead>\n",
       "    <tr style=\"text-align: right;\">\n",
       "      <th></th>\n",
       "      <th>Date</th>\n",
       "      <th>Close</th>\n",
       "    </tr>\n",
       "  </thead>\n",
       "  <tbody>\n",
       "    <tr>\n",
       "      <th>731</th>\n",
       "      <td>2022-05-09</td>\n",
       "      <td>242.657944</td>\n",
       "    </tr>\n",
       "    <tr>\n",
       "      <th>732</th>\n",
       "      <td>2022-05-10</td>\n",
       "      <td>259.463715</td>\n",
       "    </tr>\n",
       "    <tr>\n",
       "      <th>733</th>\n",
       "      <td>2022-05-11</td>\n",
       "      <td>220.672424</td>\n",
       "    </tr>\n",
       "    <tr>\n",
       "      <th>734</th>\n",
       "      <td>2022-05-12</td>\n",
       "      <td>220.753113</td>\n",
       "    </tr>\n",
       "    <tr>\n",
       "      <th>735</th>\n",
       "      <td>2022-05-13</td>\n",
       "      <td>236.984192</td>\n",
       "    </tr>\n",
       "    <tr>\n",
       "      <th>...</th>\n",
       "      <td>...</td>\n",
       "      <td>...</td>\n",
       "    </tr>\n",
       "    <tr>\n",
       "      <th>1091</th>\n",
       "      <td>2023-05-04</td>\n",
       "      <td>259.540833</td>\n",
       "    </tr>\n",
       "    <tr>\n",
       "      <th>1092</th>\n",
       "      <td>2023-05-05</td>\n",
       "      <td>257.444794</td>\n",
       "    </tr>\n",
       "    <tr>\n",
       "      <th>1093</th>\n",
       "      <td>2023-05-06</td>\n",
       "      <td>258.675842</td>\n",
       "    </tr>\n",
       "    <tr>\n",
       "      <th>1094</th>\n",
       "      <td>2023-05-07</td>\n",
       "      <td>255.379456</td>\n",
       "    </tr>\n",
       "    <tr>\n",
       "      <th>1095</th>\n",
       "      <td>2023-05-08</td>\n",
       "      <td>250.903687</td>\n",
       "    </tr>\n",
       "  </tbody>\n",
       "</table>\n",
       "<p>365 rows × 2 columns</p>\n",
       "</div>"
      ],
      "text/plain": [
       "           Date       Close\n",
       "731  2022-05-09  242.657944\n",
       "732  2022-05-10  259.463715\n",
       "733  2022-05-11  220.672424\n",
       "734  2022-05-12  220.753113\n",
       "735  2022-05-13  236.984192\n",
       "...         ...         ...\n",
       "1091 2023-05-04  259.540833\n",
       "1092 2023-05-05  257.444794\n",
       "1093 2023-05-06  258.675842\n",
       "1094 2023-05-07  255.379456\n",
       "1095 2023-05-08  250.903687\n",
       "\n",
       "[365 rows x 2 columns]"
      ]
     },
     "execution_count": 14,
     "metadata": {},
     "output_type": "execute_result"
    }
   ],
   "source": [
    "df2"
   ]
  },
  {
   "cell_type": "code",
   "execution_count": 16,
   "id": "0a90c2da",
   "metadata": {},
   "outputs": [
    {
     "name": "stderr",
     "output_type": "stream",
     "text": [
      "C:\\Users\\admin\\AppData\\Local\\Temp\\ipykernel_11840\\3332760686.py:2: SettingWithCopyWarning: \n",
      "A value is trying to be set on a copy of a slice from a DataFrame.\n",
      "Try using .loc[row_indexer,col_indexer] = value instead\n",
      "\n",
      "See the caveats in the documentation: https://pandas.pydata.org/pandas-docs/stable/user_guide/indexing.html#returning-a-view-versus-a-copy\n",
      "  df2['close_normalized'] = scaler.fit_transform(df2['Close'].values.reshape(-1, 1))\n"
     ]
    }
   ],
   "source": [
    "scaler = MinMaxScaler()\n",
    "df2['close_normalized'] = scaler.fit_transform(df2['Close'].values.reshape(-1, 1))\n"
   ]
  },
  {
   "cell_type": "code",
   "execution_count": 17,
   "id": "2d03a56a",
   "metadata": {},
   "outputs": [],
   "source": [
    "X = df2['close_normalized'].values\n",
    "y = df2['close_normalized'].values\n",
    "\n",
    "X_train, X_test, y_train, y_test = train_test_split(X, y, test_size=0.2, shuffle=False)\n"
   ]
  },
  {
   "cell_type": "code",
   "execution_count": 18,
   "id": "0c80156e",
   "metadata": {},
   "outputs": [],
   "source": [
    "X_train = X_train.reshape(-1, 1, 1)\n",
    "X_test = X_test.reshape(-1, 1, 1)\n"
   ]
  },
  {
   "cell_type": "code",
   "execution_count": 19,
   "id": "b9dc1d32",
   "metadata": {},
   "outputs": [],
   "source": [
    "model = Sequential()\n",
    "model.add(LSTM(50, activation='relu', return_sequences=True, input_shape=(1, 1)))\n",
    "model.add(LSTM(50, activation='relu'))\n",
    "model.add(Dense(1))\n",
    "model.compile(optimizer='adam', loss='mean_squared_error')\n"
   ]
  },
  {
   "cell_type": "code",
   "execution_count": 20,
   "id": "da19f9ff",
   "metadata": {},
   "outputs": [
    {
     "name": "stdout",
     "output_type": "stream",
     "text": [
      "Epoch 1/50\n",
      "292/292 [==============================] - 5s 4ms/step - loss: 0.0602\n",
      "Epoch 2/50\n",
      "292/292 [==============================] - 1s 4ms/step - loss: 0.0045\n",
      "Epoch 3/50\n",
      "292/292 [==============================] - 1s 4ms/step - loss: 0.0011\n",
      "Epoch 4/50\n",
      "292/292 [==============================] - 1s 4ms/step - loss: 5.8193e-04\n",
      "Epoch 5/50\n",
      "292/292 [==============================] - 1s 4ms/step - loss: 3.3689e-04\n",
      "Epoch 6/50\n",
      "292/292 [==============================] - 1s 4ms/step - loss: 1.9591e-04\n",
      "Epoch 7/50\n",
      "292/292 [==============================] - 1s 4ms/step - loss: 1.2010e-04\n",
      "Epoch 8/50\n",
      "292/292 [==============================] - 1s 4ms/step - loss: 1.1018e-04\n",
      "Epoch 9/50\n",
      "292/292 [==============================] - 1s 4ms/step - loss: 6.7610e-05\n",
      "Epoch 10/50\n",
      "292/292 [==============================] - 1s 4ms/step - loss: 5.7157e-05\n",
      "Epoch 11/50\n",
      "292/292 [==============================] - 1s 4ms/step - loss: 3.6311e-05\n",
      "Epoch 12/50\n",
      "292/292 [==============================] - 1s 4ms/step - loss: 2.7351e-05\n",
      "Epoch 13/50\n",
      "292/292 [==============================] - 1s 4ms/step - loss: 2.4101e-05\n",
      "Epoch 14/50\n",
      "292/292 [==============================] - 1s 4ms/step - loss: 1.7058e-05\n",
      "Epoch 15/50\n",
      "292/292 [==============================] - 1s 4ms/step - loss: 4.1508e-05\n",
      "Epoch 16/50\n",
      "292/292 [==============================] - 1s 4ms/step - loss: 1.8863e-05\n",
      "Epoch 17/50\n",
      "292/292 [==============================] - 1s 4ms/step - loss: 1.4396e-05\n",
      "Epoch 18/50\n",
      "292/292 [==============================] - 1s 4ms/step - loss: 1.7234e-05\n",
      "Epoch 19/50\n",
      "292/292 [==============================] - 1s 4ms/step - loss: 1.8718e-05\n",
      "Epoch 20/50\n",
      "292/292 [==============================] - 1s 4ms/step - loss: 3.0403e-05\n",
      "Epoch 21/50\n",
      "292/292 [==============================] - 1s 4ms/step - loss: 1.6777e-05\n",
      "Epoch 22/50\n",
      "292/292 [==============================] - 1s 4ms/step - loss: 1.3181e-05\n",
      "Epoch 23/50\n",
      "292/292 [==============================] - 1s 4ms/step - loss: 2.3828e-05\n",
      "Epoch 24/50\n",
      "292/292 [==============================] - 1s 4ms/step - loss: 1.8145e-05\n",
      "Epoch 25/50\n",
      "292/292 [==============================] - 1s 4ms/step - loss: 2.2435e-05\n",
      "Epoch 26/50\n",
      "292/292 [==============================] - 1s 4ms/step - loss: 3.2300e-05\n",
      "Epoch 27/50\n",
      "292/292 [==============================] - 1s 4ms/step - loss: 1.6600e-05\n",
      "Epoch 28/50\n",
      "292/292 [==============================] - 1s 4ms/step - loss: 3.8334e-05\n",
      "Epoch 29/50\n",
      "292/292 [==============================] - 1s 4ms/step - loss: 2.2256e-05\n",
      "Epoch 30/50\n",
      "292/292 [==============================] - 1s 4ms/step - loss: 1.6973e-05\n",
      "Epoch 31/50\n",
      "292/292 [==============================] - 1s 4ms/step - loss: 2.4070e-05\n",
      "Epoch 32/50\n",
      "292/292 [==============================] - 1s 4ms/step - loss: 3.0665e-05\n",
      "Epoch 33/50\n",
      "292/292 [==============================] - 1s 4ms/step - loss: 1.6364e-05\n",
      "Epoch 34/50\n",
      "292/292 [==============================] - 1s 4ms/step - loss: 2.5381e-05\n",
      "Epoch 35/50\n",
      "292/292 [==============================] - 1s 4ms/step - loss: 1.7449e-05\n",
      "Epoch 36/50\n",
      "292/292 [==============================] - 1s 4ms/step - loss: 1.0227e-05\n",
      "Epoch 37/50\n",
      "292/292 [==============================] - 1s 4ms/step - loss: 1.3437e-05\n",
      "Epoch 38/50\n",
      "292/292 [==============================] - 1s 4ms/step - loss: 1.9807e-05\n",
      "Epoch 39/50\n",
      "292/292 [==============================] - 1s 4ms/step - loss: 1.6402e-05\n",
      "Epoch 40/50\n",
      "292/292 [==============================] - 1s 4ms/step - loss: 2.2088e-05\n",
      "Epoch 41/50\n",
      "292/292 [==============================] - 1s 4ms/step - loss: 1.5823e-05\n",
      "Epoch 42/50\n",
      "292/292 [==============================] - 1s 4ms/step - loss: 3.5256e-05\n",
      "Epoch 43/50\n",
      "292/292 [==============================] - 1s 4ms/step - loss: 3.0729e-05\n",
      "Epoch 44/50\n",
      "292/292 [==============================] - 1s 4ms/step - loss: 9.4357e-06\n",
      "Epoch 45/50\n",
      "292/292 [==============================] - 1s 4ms/step - loss: 1.3219e-05\n",
      "Epoch 46/50\n",
      "292/292 [==============================] - 1s 4ms/step - loss: 1.1756e-05\n",
      "Epoch 47/50\n",
      "292/292 [==============================] - 1s 4ms/step - loss: 1.0563e-05\n",
      "Epoch 48/50\n",
      "292/292 [==============================] - 1s 4ms/step - loss: 1.0773e-05\n",
      "Epoch 49/50\n",
      "292/292 [==============================] - 1s 4ms/step - loss: 1.3705e-05\n",
      "Epoch 50/50\n",
      "292/292 [==============================] - 1s 4ms/step - loss: 1.5049e-05\n"
     ]
    },
    {
     "data": {
      "text/plain": [
       "<keras.callbacks.History at 0x1f8a46f9370>"
      ]
     },
     "execution_count": 20,
     "metadata": {},
     "output_type": "execute_result"
    }
   ],
   "source": [
    "model.fit(X_train, y_train, epochs=50, batch_size=1)\n"
   ]
  },
  {
   "cell_type": "code",
   "execution_count": 31,
   "id": "2cd3572f",
   "metadata": {},
   "outputs": [
    {
     "name": "stdout",
     "output_type": "stream",
     "text": [
      "1/1 [==============================] - 0s 32ms/step\n"
     ]
    }
   ],
   "source": [
    "# Assuming 'future_date' is the date for which you want to predict the closing price\n",
    "normalized_future_date = scaler.transform([[7/22/2023]])  # Normalize the future date using the same scaler\n",
    "\n",
    "predicted_normalized_price = model.predict(np.array([normalized_future_date]).reshape(1, 1, 1))\n",
    "predicted_price = scaler.inverse_transform(predicted_normalized_price)  # Inverse normalize the predicted price\n"
   ]
  },
  {
   "cell_type": "code",
   "execution_count": 32,
   "id": "8300038b",
   "metadata": {},
   "outputs": [
    {
     "data": {
      "text/plain": [
       "array([[151.5559]], dtype=float32)"
      ]
     },
     "execution_count": 32,
     "metadata": {},
     "output_type": "execute_result"
    }
   ],
   "source": [
    "# predicted_normalized_price\n",
    "predicted_price"
   ]
  },
  {
   "cell_type": "code",
   "execution_count": null,
   "id": "cfa68162",
   "metadata": {},
   "outputs": [],
   "source": []
  },
  {
   "cell_type": "code",
   "execution_count": null,
   "id": "911fe83e",
   "metadata": {},
   "outputs": [],
   "source": []
  }
 ],
 "metadata": {
  "kernelspec": {
   "display_name": "bitcoin_pred",
   "language": "python",
   "name": "bitcoin_pred"
  },
  "language_info": {
   "codemirror_mode": {
    "name": "ipython",
    "version": 3
   },
   "file_extension": ".py",
   "mimetype": "text/x-python",
   "name": "python",
   "nbconvert_exporter": "python",
   "pygments_lexer": "ipython3",
   "version": "3.8.16"
  }
 },
 "nbformat": 4,
 "nbformat_minor": 5
}
